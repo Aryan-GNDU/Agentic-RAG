{
 "cells": [
  {
   "cell_type": "markdown",
   "id": "b0b430b6",
   "metadata": {},
   "source": [
    "# Agentic RAG"
   ]
  },
  {
   "cell_type": "code",
   "execution_count": 1,
   "id": "4e801e75",
   "metadata": {},
   "outputs": [
    {
     "data": {
      "text/plain": [
       "True"
      ]
     },
     "execution_count": 1,
     "metadata": {},
     "output_type": "execute_result"
    }
   ],
   "source": [
    "import os\n",
    "import warnings\n",
    "from dotenv import load_dotenv\n",
    "\n",
    "os.environ['KMP_DUPLICATE_LIB_OK'] = 'True'\n",
    "warnings.filterwarnings(\"ignore\")\n",
    "\n",
    "load_dotenv()"
   ]
  },
  {
   "cell_type": "code",
   "execution_count": 5,
   "id": "cc8376ca",
   "metadata": {},
   "outputs": [
    {
     "name": "stdout",
     "output_type": "stream",
     "text": [
      "content=\"Hello! I'm just a bit of software here to assist with information and tasks, so I don't have feelings or physical states. How can I help you today?\" additional_kwargs={} response_metadata={'model': 'qwen2.5:latest', 'created_at': '2025-06-25T07:17:43.5867961Z', 'message': {'role': 'assistant', 'content': ''}, 'done_reason': 'stop', 'done': True, 'total_duration': 90938172100, 'load_duration': 47820434000, 'prompt_eval_count': 35, 'prompt_eval_duration': 25334674400, 'eval_count': 35, 'eval_duration': 17767146300} id='run--4884e6fb-ad37-4f2a-b060-0d9fde60b9ba-0' usage_metadata={'input_tokens': 35, 'output_tokens': 35, 'total_tokens': 70}\n"
     ]
    }
   ],
   "source": [
    "from langchain_ollama import ChatOllama\n",
    "\n",
    "model = \"qwen2.5:latest\"\n",
    "# model = \"qwen:4b\"\n",
    "llm = ChatOllama(model=model, base_url=\"http://localhost:11434\")\n",
    "print(llm.invoke(\"Hello, how are you?\"))"
   ]
  },
  {
   "cell_type": "markdown",
   "id": "619de645",
   "metadata": {},
   "source": [
    "# Retriever"
   ]
  },
  {
   "cell_type": "code",
   "execution_count": 6,
   "id": "706ac734",
   "metadata": {},
   "outputs": [
    {
     "data": {
      "text/plain": [
       "[Document(id='47e033eb-f8ad-491b-938f-16cd17123dcd', metadata={'producer': 'iLovePDF', 'creator': '', 'creationdate': '', 'source': 'rag-dataset\\\\gym supplements\\\\2. High Prevalence of Supplement Intake.pdf', 'file_path': 'rag-dataset\\\\gym supplements\\\\2. High Prevalence of Supplement Intake.pdf', 'total_pages': 11, 'format': 'PDF 1.5', 'title': '', 'author': '', 'subject': '', 'keywords': '', 'moddate': '2024-10-21T11:39:04+00:00', 'trapped': '', 'modDate': 'D:20241021113904Z', 'creationDate': '', 'page': 8}, page_content='and strength gain among men. We detected more prevalent protein and creatine supplementation\\namong younger compared to older ﬁtness center users, whereas the opposite was found for vitamin\\nsupplementation. Other authors made similar observations [23] and it might reﬂect the diﬀerent\\ntraining goals among age groups, i.e., more focus on strength and muscles among the younger and\\nmore focus on health among the older age groups.\\nComparable to other studies [4], we detected a positive correlation between training frequency\\nand supplement usage. Nevertheless, the correlation is weak and is deﬁnitely not a predictor at the\\nindividual level. The subject with the highest supplement intake of 100 weekly servings was training\\nonly once a week.'),\n",
       " Document(id='0d63d5ba-c42e-4c6a-953b-f9a383d30047', metadata={'producer': 'iLovePDF', 'creator': '', 'creationdate': '', 'source': 'rag-dataset\\\\gym supplements\\\\2. High Prevalence of Supplement Intake.pdf', 'file_path': 'rag-dataset\\\\gym supplements\\\\2. High Prevalence of Supplement Intake.pdf', 'total_pages': 11, 'format': 'PDF 1.5', 'title': '', 'author': '', 'subject': '', 'keywords': '', 'moddate': '2024-10-21T11:39:04+00:00', 'trapped': '', 'modDate': 'D:20241021113904Z', 'creationDate': '', 'page': 6}, page_content='Nutrients 2020, 12, 2595\\n7 of 13\\n \\n3.3. Training Goals \\nThe three most important training goals of the participating fitness center users were improving \\nhealth, improving strength, and body shaping (Figure 2). Analysis by age showed obvious age effects \\nfor two training goals. Improving health was named by 59%, 60%, 75%, and 89% as a training goal \\namong the four age groups beginning from the youngest to the oldest group. On the other hand, body \\nshaping was named by 69%, 55%, 41%, and 17% among the four age groups.  \\n \\nFigure 2. Training goals. g: Indicates significant gender effect (p < 0.05). Multiple answers were \\npossible. \\n3.4. Reasons for Supplement Intake \\nThe three most important reasons to take supplements were muscle building (49%), improving \\nhealth (47%), and improving sport-specific performance (28%) (Figure 3).  \\nFigure 2. Training goals. g: Indicates signiﬁcant gender eﬀect (p < 0.05). Multiple answers were possible.\\n3.4. Reasons for Supplement Intake'),\n",
       " Document(id='0b478477-0415-4bc3-8fe2-13277b87749c', metadata={'producer': 'iLovePDF', 'creator': '', 'creationdate': '', 'source': 'rag-dataset\\\\gym supplements\\\\2. High Prevalence of Supplement Intake.pdf', 'file_path': 'rag-dataset\\\\gym supplements\\\\2. High Prevalence of Supplement Intake.pdf', 'total_pages': 11, 'format': 'PDF 1.5', 'title': '', 'author': '', 'subject': '', 'keywords': '', 'moddate': '2024-10-21T11:39:04+00:00', 'trapped': '', 'modDate': 'D:20241021113904Z', 'creationDate': '', 'page': 5}, page_content='for two training goals. Improving health was named by 59%, 60%, 75%, and 89% as a training goal\\namong the four age groups beginning from the youngest to the oldest group. On the other hand, body\\nshaping was named by 69%, 55%, 41%, and 17% among the four age groups.'),\n",
       " Document(id='dd9bee94-6951-4570-ae4b-b0a41675633a', metadata={'producer': 'iLovePDF', 'creator': '', 'creationdate': '', 'source': 'rag-dataset\\\\gym supplements\\\\1. Analysis of Actual Fitness Supplement.pdf', 'file_path': 'rag-dataset\\\\gym supplements\\\\1. Analysis of Actual Fitness Supplement.pdf', 'total_pages': 15, 'format': 'PDF 1.7', 'title': '', 'author': '', 'subject': '', 'keywords': '', 'moddate': '2024-10-21T11:38:50+00:00', 'trapped': '', 'modDate': 'D:20241021113850Z', 'creationDate': '', 'page': 0}, page_content='acids than traditional protein sources. Its numerous benefits have made it a popular choice\\nfor snacks and drinks among consumers [3]. Another widely embraced supplement is\\ncaffeine, which is found in many sports and food supplements. Caffeine reduces perceived\\neffort, minimizes fatigue and pain, and proves to be effective for endurance and high-\\nintensity activities, which is the choice of consumers [4].\\nCreatine monohydrate is another well-known supplement used to gain muscle mass\\nand support performance and recovery. It is known not to increase fat mass and remains\\neffective even when taken in recommended doses [5]. Despite its popularity in the fitness\\nFoods 2024, 13, 1424. https://doi.org/10.3390/foods13091424\\nhttps://www.mdpi.com/journal/foods'),\n",
       " Document(id='66fadd0c-0d3c-4424-91a4-e40360b8e912', metadata={'producer': 'iLovePDF', 'creator': '', 'creationdate': '', 'source': 'rag-dataset\\\\gym supplements\\\\2. High Prevalence of Supplement Intake.pdf', 'file_path': 'rag-dataset\\\\gym supplements\\\\2. High Prevalence of Supplement Intake.pdf', 'total_pages': 11, 'format': 'PDF 1.5', 'title': '', 'author': '', 'subject': '', 'keywords': '', 'moddate': '2024-10-21T11:39:04+00:00', 'trapped': '', 'modDate': 'D:20241021113904Z', 'creationDate': '', 'page': 4}, page_content='for two training goals. Improving health was named by 59%, 60%, 75%, and 89% as a training goal \\nFigure 1. Supplement intake vs. training frequency. The scatter density plot and spearman rank\\ncorrelation (mean and 95% conﬁdence interval) of supplement servings per week vs. training frequency\\ngive an rs = 0.253 (p < 0.001).')]"
      ]
     },
     "execution_count": 6,
     "metadata": {},
     "output_type": "execute_result"
    }
   ],
   "source": [
    "from langchain_ollama import OllamaEmbeddings\n",
    "import faiss\n",
    "from langchain_community.vectorstores import FAISS \n",
    "from langchain_community.docstore.in_memory import InMemoryDocstore\n",
    "\n",
    "\n",
    "embeddings = OllamaEmbeddings(\n",
    "    model=\"nomic-embed-text:v1.5\",\n",
    "    base_url='http://localhost:11434'\n",
    ")\n",
    "\n",
    "db_name = \"health_supplements\"\n",
    "vector_store = FAISS.load_local(db_name, embeddings, allow_dangerous_deserialization=True)\n",
    "\n",
    "retriever = vector_store.as_retriever(search_type=\"similarity\", search_kwargs = {'k': 5})\n",
    "\n",
    "question = \"how to gain muscle mass?\"\n",
    "retriever.invoke(question)"
   ]
  },
  {
   "cell_type": "code",
   "execution_count": 7,
   "id": "bcb27cb8",
   "metadata": {},
   "outputs": [],
   "source": [
    "from langchain.tools.retriever import create_retriever_tool\n",
    "\n",
    "retriever_tool = create_retriever_tool(\n",
    "    retriever,\n",
    "    \"health_supplements\",\n",
    "    \"Search and retrun information about the Health Supplements for workout and gym\",\n",
    ")\n",
    "\n",
    "tools = [retriever_tool]"
   ]
  },
  {
   "cell_type": "code",
   "execution_count": 8,
   "id": "44441453",
   "metadata": {},
   "outputs": [
    {
     "data": {
      "text/plain": [
       "[Tool(name='health_supplements', description='Search and retrun information about the Health Supplements for workout and gym', args_schema=<class 'langchain_core.tools.retriever.RetrieverInput'>, func=functools.partial(<function _get_relevant_documents at 0x000001B0FF72FA60>, retriever=VectorStoreRetriever(tags=['FAISS', 'OllamaEmbeddings'], vectorstore=<langchain_community.vectorstores.faiss.FAISS object at 0x000001B0A6FFFCD0>, search_kwargs={'k': 5}), document_prompt=PromptTemplate(input_variables=['page_content'], input_types={}, partial_variables={}, template='{page_content}'), document_separator='\\n\\n', response_format='content'), coroutine=functools.partial(<function _aget_relevant_documents at 0x000001B0FF7B1EE0>, retriever=VectorStoreRetriever(tags=['FAISS', 'OllamaEmbeddings'], vectorstore=<langchain_community.vectorstores.faiss.FAISS object at 0x000001B0A6FFFCD0>, search_kwargs={'k': 5}), document_prompt=PromptTemplate(input_variables=['page_content'], input_types={}, partial_variables={}, template='{page_content}'), document_separator='\\n\\n', response_format='content'))]"
      ]
     },
     "execution_count": 8,
     "metadata": {},
     "output_type": "execute_result"
    }
   ],
   "source": [
    "tools"
   ]
  },
  {
   "cell_type": "code",
   "execution_count": null,
   "id": "ca5b0dfd",
   "metadata": {},
   "outputs": [],
   "source": []
  },
  {
   "cell_type": "markdown",
   "id": "09082ccb",
   "metadata": {},
   "source": [
    "![alt text](download-1.png)"
   ]
  },
  {
   "cell_type": "code",
   "execution_count": 9,
   "id": "25595bce",
   "metadata": {},
   "outputs": [],
   "source": [
    "from typing import Annotated, Sequence, TypedDict, Literal \n",
    "from langchain_core.messages import BaseMessage\n",
    "from langgraph.graph.message import add_messages\n",
    "\n",
    "class State(TypedDict):\n",
    "    messages: Annotated[Sequence[BaseMessage], add_messages]"
   ]
  },
  {
   "cell_type": "code",
   "execution_count": 10,
   "id": "4ab38ed4",
   "metadata": {},
   "outputs": [],
   "source": [
    "from langchain import hub\n",
    "from langchain_core.messages import  BaseMessage, HumanMessage\n",
    "from langchain_core.output_parsers import StrOutputParser\n",
    "from langchain_core.prompts import PromptTemplate\n",
    "\n",
    "from pydantic import BaseModel, Field\n",
    "from langgraph.prebuilt import tools_condition"
   ]
  },
  {
   "cell_type": "markdown",
   "id": "b016b9c7",
   "metadata": {},
   "source": [
    "# Document Grader"
   ]
  },
  {
   "cell_type": "code",
   "execution_count": 11,
   "id": "0ceafc26",
   "metadata": {},
   "outputs": [],
   "source": [
    "def grade_documents(state) -> Literal[\"generate\", \"rewrite\"]:\n",
    "    \"\"\"\n",
    "    Determines whether the retrieved documents are relevant to the question.\n",
    "\n",
    "    Args:\n",
    "        state (messages): The current state\n",
    "\n",
    "    Returns:\n",
    "        str: A decision for whether the documents are relevant or not\n",
    "    \"\"\"\n",
    "\n",
    "    print(\"---CHECK RELEVANCE---\")\n",
    "\n",
    "    # Data model\n",
    "    class grade(BaseModel):\n",
    "        \"\"\"Binary score for relevance check.\"\"\"\n",
    "\n",
    "        binary_score: str = Field(description=\"Relevance score 'yes' or 'no'\")\n",
    "\n",
    "    # LLM with tool and validation\n",
    "    llm_with_structured_output = llm.with_structured_output(grade)\n",
    "\n",
    "    # Prompt\n",
    "    prompt = PromptTemplate(\n",
    "        template=\"\"\"You are a grader assessing relevance of a retrieved document to a user question. \\n \n",
    "        Here is the retrieved document: \\n\\n {context} \\n\\n\n",
    "        Here is the user question: {question} \\n\n",
    "        If the document contains keyword(s) or semantic meaning related to the user question, grade it as relevant. \\n\n",
    "        Give a binary score 'yes' or 'no' score to indicate whether the document is relevant to the question.\"\"\",\n",
    "        input_variables=[\"context\", \"question\"],\n",
    "    )\n",
    "\n",
    "    # Chain\n",
    "    chain = prompt | llm_with_structured_output\n",
    "\n",
    "    messages = state[\"messages\"]\n",
    "    last_message = messages[-1]\n",
    "\n",
    "    question = messages[0].content\n",
    "    docs = last_message.content\n",
    "\n",
    "    scored_result = chain.invoke({\"question\": question, \"context\": docs})\n",
    "\n",
    "    score = scored_result.binary_score\n",
    "\n",
    "    if score == \"yes\":\n",
    "        print(\"---DECISION: DOCS RELEVANT---\")\n",
    "        return \"generate\"\n",
    "\n",
    "    else:\n",
    "        print(\"---DECISION: DOCS NOT RELEVANT---\")\n",
    "        print(score)\n",
    "        return \"rewrite\""
   ]
  },
  {
   "cell_type": "markdown",
   "id": "69e073ee",
   "metadata": {},
   "source": [
    "# Agent Node"
   ]
  },
  {
   "cell_type": "code",
   "execution_count": 12,
   "id": "a04279cb",
   "metadata": {},
   "outputs": [],
   "source": [
    "def agent(state):\n",
    "    \"\"\"\n",
    "    Invokes the agent model to generate a response based on the current state. Given\n",
    "    the question, it will decide to retrieve using the retriever tool, or simply end.\n",
    "\n",
    "    Args:\n",
    "        state (messages): The current state\n",
    "\n",
    "    Returns:\n",
    "        dict: The updated state with the agent response appended to messages\n",
    "    \"\"\"\n",
    "    print(\"---CALL AGENT---\")\n",
    "    messages = state[\"messages\"]\n",
    "\n",
    "    llm_with_tools = llm.bind_tools(tools, tool_choice=\"required\")\n",
    "    response = llm_with_tools.invoke(messages)\n",
    "    # We return a list, because this will get added to the existing list\n",
    "    return {\"messages\": [response]}"
   ]
  },
  {
   "cell_type": "markdown",
   "id": "45ab288b",
   "metadata": {},
   "source": [
    "# Rewrite Node"
   ]
  },
  {
   "cell_type": "code",
   "execution_count": 13,
   "id": "0ce67e6b",
   "metadata": {},
   "outputs": [],
   "source": [
    "def rewrite(state):\n",
    "    \"\"\"\n",
    "    Transform the query to produce a better question.\n",
    "\n",
    "    Args:\n",
    "        state (messages): The current state\n",
    "\n",
    "    Returns:\n",
    "        dict: The updated state with re-phrased question\n",
    "    \"\"\"\n",
    "\n",
    "    print(\"---TRANSFORM QUERY---\")\n",
    "    messages = state[\"messages\"]\n",
    "    question = messages[0].content\n",
    "\n",
    "    msg = [\n",
    "        HumanMessage(\n",
    "            content=f\"\"\" \\n \n",
    "    Look at the input and try to reason about the underlying semantic intent / meaning. \\n \n",
    "    Here is the initial question:\n",
    "    \\n ------- \\n\n",
    "    {question} \n",
    "    \\n ------- \\n\n",
    "    Formulate an improved question: \"\"\",\n",
    "        )\n",
    "    ]\n",
    "\n",
    "    # Grader\n",
    "    response = llm.invoke(msg)\n",
    "    return {\"messages\": [response]}"
   ]
  },
  {
   "cell_type": "markdown",
   "id": "8e931fce",
   "metadata": {},
   "source": [
    "# Generate Node"
   ]
  },
  {
   "cell_type": "code",
   "execution_count": 14,
   "id": "c0202ff9",
   "metadata": {},
   "outputs": [],
   "source": [
    "def generate(state):\n",
    "    \"\"\"\n",
    "    Generate answer\n",
    "\n",
    "    Args:\n",
    "        state (messages): The current state\n",
    "\n",
    "    Returns:\n",
    "         dict: The updated state with re-phrased question\n",
    "    \"\"\"\n",
    "    print(\"---GENERATE---\")\n",
    "    messages = state[\"messages\"]\n",
    "    question = messages[0].content\n",
    "    last_message = messages[-1]\n",
    "\n",
    "    docs = last_message.content\n",
    "\n",
    "    # Prompt\n",
    "    prompt = hub.pull(\"rlm/rag-prompt\")\n",
    "\n",
    "    # Post-processing\n",
    "    def format_docs(docs):\n",
    "        return \"\\n\\n\".join(doc.page_content for doc in docs)\n",
    "\n",
    "    # Chain\n",
    "    rag_chain = prompt | llm | StrOutputParser()\n",
    "\n",
    "    # Run\n",
    "    response = rag_chain.invoke({\"context\": docs, \"question\": question})\n",
    "    return {\"messages\": [response]}"
   ]
  },
  {
   "cell_type": "markdown",
   "id": "30492f55",
   "metadata": {},
   "source": [
    "Graph\n",
    "* Start with an agent, call_model\n",
    "* Agent make a decision to call a function\n",
    "* If so, then action to call tool (retriever)\n",
    "* Then call agent with the tool output added to messages (state)"
   ]
  },
  {
   "cell_type": "code",
   "execution_count": 15,
   "id": "f9d96503",
   "metadata": {},
   "outputs": [],
   "source": [
    "from langgraph.graph import END, START, StateGraph\n",
    "from langgraph.prebuilt import ToolNode"
   ]
  },
  {
   "cell_type": "code",
   "execution_count": 16,
   "id": "acfed52c",
   "metadata": {},
   "outputs": [],
   "source": [
    "graph_builder = StateGraph(State)\n",
    "\n",
    "graph_builder.add_node(\"agent\", agent)\n",
    "retriever = ToolNode([retriever_tool])\n",
    "graph_builder.add_node(\"retriever\", retriever)\n",
    "graph_builder.add_node(\"rewrite\", rewrite)\n",
    "\n",
    "graph_builder.add_node(\"generate\", generate)\n",
    "\n",
    "\n",
    "graph_builder.add_edge(START, \"agent\")\n",
    "\n",
    "graph_builder.add_conditional_edges( \n",
    "    \"agent\",\n",
    "\n",
    "    tools_condition,\n",
    "    {\n",
    "        \"tools\": \"retriever\",\n",
    "        END: END\n",
    "    }\n",
    ")\n",
    "\n",
    "graph_builder.add_conditional_edges(\n",
    "    \"retriever\",\n",
    "    grade_documents\n",
    ")\n",
    "\n",
    "graph_builder.add_edge(\"generate\", END)\n",
    "graph_builder.add_edge(\"rewrite\", \"agent\")\n",
    "\n",
    "graph = graph_builder.compile()\n"
   ]
  },
  {
   "cell_type": "code",
   "execution_count": 17,
   "id": "1f93b71a",
   "metadata": {},
   "outputs": [
    {
     "data": {
      "image/png": "[encoded data removed]",
      "text/plain": [
       "<IPython.core.display.Image object>"
      ]
     },
     "metadata": {},
     "output_type": "display_data"
    }
   ],
   "source": [
    "from IPython.display import Image, display\n",
    "\n",
    "display(Image(graph.get_graph().draw_mermaid_png()))"
   ]
  },
  {
   "cell_type": "code",
   "execution_count": 18,
   "id": "c0b1e82b",
   "metadata": {},
   "outputs": [
    {
     "name": "stdout",
     "output_type": "stream",
     "text": [
      "---CALL AGENT---\n",
      "\"Output from node 'agent':\"\n",
      "'----'\n",
      "{   'messages': [   AIMessage(content=\"While proteins are essential for muscle growth and repair, consuming excessive amounts can lead to several health issues. Let's explore some potential risks associated with overconsumption of protein.\\n\\nHowever, before we proceed, could you please specify if you are looking for general information or specific details related to a certain type of protein supplement? This will help me tailor the information more accurately to your needs.\\n\", additional_kwargs={}, response_metadata={'model': 'qwen2.5:latest', 'created_at': '2025-06-25T07:22:34.2647379Z', 'message': {'role': 'assistant', 'content': \"While proteins are essential for muscle growth and repair, consuming excessive amounts can lead to several health issues. Let's explore some potential risks associated with overconsumption of protein.\\n\\nHowever, before we proceed, could you please specify if you are looking for general information or specific details related to a certain type of protein supplement? This will help me tailor the information more accurately to your needs.\\n\", 'tool_calls': [{'function': {'name': 'health_supplements', 'arguments': {'query': 'risks of taking too much protein'}}}]}, 'done_reason': 'stop', 'done': True, 'total_duration': 43298365700, 'load_duration': 55340700, 'prompt_eval_count': 178, 'prompt_eval_duration': 9558945400, 'eval_count': 103, 'eval_duration': 33663056700}, id='run--a494b8b3-b626-44cd-9958-8bb7ed0bdcda-0', tool_calls=[{'name': 'health_supplements', 'args': {'query': 'risks of taking too much protein'}, 'id': 'da86212c-49d7-4dfa-b05c-1be8cdc14a18', 'type': 'tool_call'}], usage_metadata={'input_tokens': 178, 'output_tokens': 103, 'total_tokens': 281})]}\n",
      "'\\n------\\n'\n",
      "---CHECK RELEVANCE---\n",
      "---DECISION: DOCS RELEVANT---\n",
      "\"Output from node 'retriever':\"\n",
      "'----'\n",
      "{   'messages': [   ToolMessage(content='liver oils which also contain vitamin A and multivitamin supplements could result in \\nhypervitaminosis A. Furthermore, fish oils and omega-3 fatty acid supplements may \\nexacerbate anticoagulation and promote bleeding in patients taking anticoagulant \\nmedications such as warfarin (32,33).\\nPROTEIN POWDERS AND INFANT FORMULA\\nProtein powders consisting of the dairy proteins casein, whey and of vegetable proteins in \\nsoy protein isolate (SPI) are popular supplements among athletes and body builders. These \\nproteins are also the basis of infant formulas fed to over 4 million U.S. infants each year. \\nThe dairy proteins appear to have little toxicity except in individuals with allergies to cow’s \\nmilk protein, although excessive consumption may result in ketosis. In contrast, there is an \\nRonis et al.\\nPage 4\\nAnnu Rev Pharmacol Toxicol. Author manuscript; available in PMC 2019 February 19.\\nAuthor Manuscript\\nAuthor Manuscript\\nAuthor Manuscript\\nAuthor Manuscript\\n\\nnourished adults. In contrast, a small number of these products have the potential to produce \\nsignificant toxicity. In addition, it is rare that patients disclose supplement use to their physicians. \\nTherefore, the risk of adverse drug-supplement interactions is significant. An overview of the \\nmajor supplement and nutraceutical classes is presented here together with known toxic effects \\nand potential for drug interactions.\\nKeywords\\nToxicity; multivitamin/multimineral; soy protein isolate; isoflavones; bodybuilding supplements; \\nherb-drug interaction\\nINTRODUCTION\\nDietary supplements are products that are ingested in addition to the regular diet in order to \\nprovide additional health-promoting nutrients. In the US, dietary supplements are defined \\nand regulated according to the Dietary Supplement Health and Education Act (DSHEA) of \\n1994 (1). According to the DSHEA, a dietary supplement is a product that is intended to\\n\\nadditional two studies have suggested increased mortality in smokers consuming β-carotene \\nsupplements (18,19). Excess vitamin A supplementation has been suggested to be associated \\nwith adverse effects on bone health including low bone mineral density and increased \\nfracture risk (20). In addition, women consuming large amounts of vitamin A supplements \\nduring pregnancy have been reported to have increased incidence of congenital \\nabnormalities (21). There is also a case report of intra-hepatic cholestasis in a patient with \\nchronic hypervitaminosis A after 12 years of supplement consumption which resolved after \\nsupplements were ceased (22). In addition to toxicity from excess vitamin consumption, \\ntoxicity can arise from excess consumption of minerals. In particular, there is an increasing \\nrisk of hyperchromatosis, an iron storage disease associated with liver injury after excess \\nconsumption of iron or multimineral supplements (23,24). This can be exacerbated by\\n\\neducated guess of the magnitude of supplement intake, which seems to be even more relevant than the\\nmere prevalence of supplements in use. Future studies should focus more on this parameter to obtain\\nmore data about the scale of supplement intake and not only about the prevalence of supplement users,\\nno matter the extent of use. Our data indicate that a signiﬁcant part of the supplement consumers is\\nsupplementing on a large scale, i.e., 31% use at least 20 supplement servings per week and 10% use 40\\nor more supplement servings per week.\\nProtein supplements represented the most prevalent products, which is in line with other\\nsupplement screening studies [19,23,24]. In line with others [4], we reported a more prevalent protein\\nintake among men compared to women. This correlates with the more prevalent training goal of muscle\\nand strength gain among men. We detected more prevalent protein and creatine supplementation\\n\\nwomen consuming isoflavone supplements (59) and, given the clear evidence of \\nestrogenicity, there is a likelihood of increased risk of estrogen sensitive cancers in \\nconsumers of these products.\\nWEIGHT-LOSS, SPORTS, AND BODYBUILDING SUPPLEMENTS\\nAs more and more of the world population becomes overweight and obese, there is a huge \\nmarket for weight-loss products, including dietary supplements. Among military service \\nmembers, athletes and bodybuilders it is also common to ingest dietary sports supplements \\nintended to burn fat and increase performance, muscle mass or strength. As examples, 53% \\nof active-duty US Army soldiers report using at least one dietary supplement per week (60), \\nand 64% of college students participating in athletics use dietary supplements to enhance \\nperformance (61). The supplements are often proprietary blends of several supposedly \\nnatural ingredients. They are not without risk of adverse effects. In a recent review, it is', name='health_supplements', id='d139896c-58df-420e-87b0-e28ab617e9c5', tool_call_id='da86212c-49d7-4dfa-b05c-1be8cdc14a18')]}\n",
      "'\\n------\\n'\n",
      "---GENERATE---\n",
      "\"Output from node 'generate':\"\n",
      "'----'\n",
      "{   'messages': [   'Taking too much protein can lead to ketosis and, in rare cases, allergic reactions. Excessive '\n",
      "                    'protein consumption may also increase the risk of liver injury, particularly when combined with '\n",
      "                    'other supplements like iron or multimineral supplements.']}\n",
      "'\\n------\\n'\n"
     ]
    }
   ],
   "source": [
    "from pprint import pprint\n",
    "\n",
    "# query = {\"messages\": [HumanMessage(\"How to gain muscle mass?\")]}\n",
    "query = {\"messages\": [HumanMessage(\"what are the risks of taking too much protein?\")]}\n",
    "\n",
    "# query = {\"messages\": [HumanMessage(\"tell me about the langchain\")]}\n",
    "\n",
    "# graph.invoke(query)\n",
    "\n",
    "for output in graph.stream(query):\n",
    "    for key, value in output.items():\n",
    "        pprint(f\"Output from node '{key}':\")\n",
    "        pprint(\"----\")\n",
    "        pprint(value, indent=4, width=120)\n",
    "\n",
    "    pprint(\"\\n------\\n\")"
   ]
  },
  {
   "cell_type": "code",
   "execution_count": null,
   "id": "c97b2c77",
   "metadata": {},
   "outputs": [],
   "source": []
  }
 ],
 "metadata": {
  "kernelspec": {
   "display_name": "langgraph",
   "language": "python",
   "name": "python3"
  },
  "language_info": {
   "codemirror_mode": {
    "name": "ipython",
    "version": 3
   },
   "file_extension": ".py",
   "mimetype": "text/x-python",
   "name": "python",
   "nbconvert_exporter": "python",
   "pygments_lexer": "ipython3",
   "version": "3.11.11"
  }
 },
 "nbformat": 4,
 "nbformat_minor": 5
}
